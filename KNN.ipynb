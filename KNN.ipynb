{
  "nbformat": 4,
  "nbformat_minor": 0,
  "metadata": {
    "colab": {
      "provenance": []
    },
    "kernelspec": {
      "name": "python3",
      "display_name": "Python 3"
    },
    "language_info": {
      "name": "python"
    }
  },
  "cells": [
    {
      "cell_type": "code",
      "execution_count": 1,
      "metadata": {
        "colab": {
          "base_uri": "https://localhost:8080/"
        },
        "id": "TSL9YiWYeebh",
        "outputId": "9628d9a3-d926-452b-f0fd-80c60a730d55"
      },
      "outputs": [
        {
          "output_type": "stream",
          "name": "stdout",
          "text": [
            "['N' 'N' 'N' 'Y' 'Y' 'N' 'N' 'N' 'N' 'N' 'Y' 'N' 'N' 'Y' 'N' 'N' 'N' 'N'\n",
            " 'Y' 'N' 'N' 'N' 'N' 'Y']\n"
          ]
        }
      ],
      "source": [
        "import pandas as pd\n",
        "from sklearn.neighbors import KNeighborsClassifier\n",
        "\n",
        "# Step 1: Data from the image\n",
        "data = {\n",
        "    'Cd_1': [53.1, 36.9, 49.1, 71.7, 74.3, 48.4, 54.9, 47.4, 45.1, 44.9, 74.6, 61.8, 39.7, 55.4, 46.5, 61.7, 41.6, 52.3, 77.6, 44.6, 72.8, 35.6, 38.4, 74.2],\n",
        "    'Cd_2': [63.4, 54.7, 48.5, 75.6, 51.8, 83.1, 68.3, 59.2, 79.8, 28.1, 72.6, 77.2, 68.4, 71.9, 51.1, 57.7, 75.2, 66.9, 53.6, 76.4, 90.6, 73.3, 32.9, 50.4],\n",
        "    'Cd_3': [33.0, 31.1, 32.3, 37.9, 36.4, 64.1, 62.4, 45.2, 45.5, 51.8, 35.9, 52.1, 58.0, 32.7, 40.5, 34.8, 57.9, 77.3, 43.6, 47.8, 30.5, 63.3, 29.0, 49.9],\n",
        "    'Cd_4': [46.2, 50.5, 32.0, 50.5, 40.9, 62.5, 17.5, 14.9, 20.5, 57.5, 40.2, 38.5, 24.3, 35.1, 59.5, 28.5, 41.3, 20.6, 49.6, 46.9, 53.5, 48.9, 35.4, 64.7],\n",
        "    'Cd_5': [47.3, 56.6, 32.3, 92.5, 74.7, 67.1, 60.4, 57.2, 46.4, 86.7, 62.9, 87.7, 61.3, 89.4, 51.6, 56.4, 74.5, 77.2, 76.9, 87.3, 85.7, 43.8, 50.1, 60.4],\n",
        "    'Cd_6': [21.2, 38.9, 32.9, 52.3, 65.1, 60.7, 25.7, 62.7, 64.4, 53.2, 43.4, 47.5, 34.1, 59.4, 60.6, 58.5, 34.4, 59.5, 42.5, 42.5, 52.4, 35.6, 67.5, 56.4],\n",
        "    'Cd_7': [44.3, 39.4, 94.0, 82.3, 36.2, 74.7, 53.2, 66.9, 51.4, 70.3, 33.6, 69.3, 77.9, 92.4, 87.6, 69.9, 87.4, 68.6, 49.3, 62.5, 82.4, 97.6, 73.7, 57.4],\n",
        "    'Cd_8': [36.1, 56.8, 61.4, 77.3, 77.6, 71.7, 42.3, 75.2, 73.5, 33.4, 66.1, 29.0, 61.3, 56.4, 91.9, 65.4, 44.8, 59.1, 42.7, 93.7, 71.8, 91.4, 70.7, 73.9],\n",
        "    'Cd_9': [46.6, 33.5, 43.6, 80.8, 77.6, 27.1, 59.0, 55.2, 59.3, 81.8, 76.1, 75.2, 84.0, 88.6, 59.3, 65.7, 65.9, 60.8, 39.8, 53.2, 28.1, 52.3, 48.7, 64.9],\n",
        "    'Cd_10': [65.0, 78.8, 69.9, 60.9, 64.9, 80.7, 58.7, 75.3, 61.6, 51.8, 73.1, 75.2, 72.6, 91.3, 75.3, 69.5, 65.9, 70.3, 38.5, 50.3, 69.1, 63.3, 72.6, 69.1],\n",
        "    'Result': ['Y', 'N', 'N', 'Y', 'Y', 'N', 'N', 'N', 'N', 'Y', 'Y', 'N', 'N', 'Y', 'N', 'Y', 'N', 'N', 'N', 'N', 'N', 'N', 'N', 'Y']\n",
        "}\n",
        "\n",
        "# Step 2: Create DataFrame\n",
        "df = pd.DataFrame(data)\n",
        "\n",
        "# Step 3: Separate features and target\n",
        "X = df.drop(columns=['Result'])\n",
        "y = df['Result']\n",
        "\n",
        "# Step 4: Create and train KNN model\n",
        "from sklearn.neighbors import KNeighborsClassifier\n",
        "\n",
        "knn = KNeighborsClassifier(n_neighbors=3)  # You can choose k as needed\n",
        "knn.fit(X, y)\n",
        "\n",
        "# Example: Predicting for the same dataset (not recommended for real scenarios)\n",
        "predictions = knn.predict(X)\n",
        "print(predictions)\n",
        "\n",
        "\n"
      ]
    }
  ]
}