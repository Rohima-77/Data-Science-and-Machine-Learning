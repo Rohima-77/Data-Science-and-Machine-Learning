{
  "nbformat": 4,
  "nbformat_minor": 0,
  "metadata": {
    "colab": {
      "provenance": []
    },
    "kernelspec": {
      "name": "python3",
      "display_name": "Python 3"
    },
    "language_info": {
      "name": "python"
    }
  },
  "cells": [
    {
      "cell_type": "code",
      "source": [
        "import pandas as pd\n",
        "import matplotlib.pyplot as plt\n",
        "from google.colab import drive\n",
        "drive.mount('/content/drive')\n",
        "df = pd.read_csv('/content/drive/MyDrive/Incomes/income.csv')\n",
        "print(df)"
      ],
      "metadata": {
        "colab": {
          "base_uri": "https://localhost:8080/"
        },
        "id": "JmilBExjrwMC",
        "outputId": "6b71a685-6cbe-48f3-9e0f-040bbd999eae"
      },
      "execution_count": null,
      "outputs": [
        {
          "output_type": "stream",
          "name": "stdout",
          "text": [
            "Mounted at /content/drive\n",
            "        Name  Age  Income  Buy\n",
            "0        Rob   27   70000  Yes\n",
            "1    Michael   29   90000   No\n",
            "2      Mohan   29   61000  Yes\n",
            "3     Ismail   28   60000  Yes\n",
            "4       Kory   42  150000   No\n",
            "5     Gautam   39  155000  Yes\n",
            "6      David   41  160000  Yes\n",
            "7     Andrea   38  162000   No\n",
            "8       Brad   36  156000  Yes\n",
            "9   Angelina   35  130000   No\n",
            "10    Donald   37  137000  Yes\n",
            "11       Tom   26   45000   No\n",
            "12    Arnold   27   48000   No\n",
            "13     Jared   28   51000   No\n",
            "14     Stark   29   49500  Yes\n",
            "15    Ranbir   32   53000   No\n",
            "16    Dipika   40   65000  Yes\n",
            "17  Priyanka   43   63000   No\n",
            "18      Nick   39   64000  Yes\n",
            "19      Alia   43   80000   No\n",
            "20       Sid   41   82000  Yes\n",
            "21     Abdul   39   58000   No\n"
          ]
        }
      ]
    },
    {
      "cell_type": "code",
      "source": [
        "import pandas as pd\n",
        "from sklearn.preprocessing import StandardScaler\n",
        "\n",
        "print(\"Original Data:\")\n",
        "print(df.head())\n",
        "\n",
        "features_to_scale = ['Age', 'Income']\n",
        "\n",
        "scaler = StandardScaler()\n",
        "\n",
        "scaled_features = scaler.fit_transform(df[features_to_scale])\n",
        "\n",
        "scaled_df = pd.DataFrame(scaled_features, columns=[f\"{col}_scaled\" for col in features_to_scale])\n",
        "\n",
        "df_scaled = pd.concat([df, scaled_df], axis=1)\n",
        "\n",
        "print(\"\\nData with Scaled Features:\")\n",
        "print(df_scaled.head())\n"
      ],
      "metadata": {
        "colab": {
          "base_uri": "https://localhost:8080/"
        },
        "id": "yZdvigl1u_Z5",
        "outputId": "99f3ef4d-8062-477d-9514-ea08d5dc5d06"
      },
      "execution_count": null,
      "outputs": [
        {
          "output_type": "stream",
          "name": "stdout",
          "text": [
            "Original Data:\n",
            "      Name  Age  Income  Buy\n",
            "0      Rob   27   70000  Yes\n",
            "1  Michael   29   90000   No\n",
            "2    Mohan   29   61000  Yes\n",
            "3   Ismail   28   60000  Yes\n",
            "4     Kory   42  150000   No\n",
            "\n",
            "Data with Scaled Features:\n",
            "      Name  Age  Income  Buy  Age_scaled  Income_scaled\n",
            "0      Rob   27   70000  Yes   -1.345808      -0.480684\n",
            "1  Michael   29   90000   No   -1.005489      -0.010159\n",
            "2    Mohan   29   61000  Yes   -1.005489      -0.692421\n",
            "3   Ismail   28   60000  Yes   -1.175648      -0.715947\n",
            "4     Kory   42  150000   No    1.206586       1.401417\n"
          ]
        }
      ]
    }
  ]
}