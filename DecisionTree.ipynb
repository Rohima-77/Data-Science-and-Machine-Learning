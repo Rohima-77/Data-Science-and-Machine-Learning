{
  "nbformat": 4,
  "nbformat_minor": 0,
  "metadata": {
    "colab": {
      "provenance": []
    },
    "kernelspec": {
      "name": "python3",
      "display_name": "Python 3"
    },
    "language_info": {
      "name": "python"
    }
  },
  "cells": [
    {
      "cell_type": "code",
      "execution_count": 1,
      "metadata": {
        "colab": {
          "base_uri": "https://localhost:8080/"
        },
        "id": "XCM4s4Xxw6Hg",
        "outputId": "d7c5f014-6c5b-4522-8483-377f0d1c8db4"
      },
      "outputs": [
        {
          "output_type": "stream",
          "name": "stdout",
          "text": [
            "Input: {'Weather': 'Sunny', 'Humidity': 'Normal', 'Wind': 'Strong'} -> Play: No\n",
            "Input: {'Weather': 'Rainy', 'Humidity': 'Low', 'Wind': 'Weak'} -> Play: Yes\n",
            "Input: {'Weather': 'Sunny', 'Humidity': 'High', 'Wind': 'Weak'} -> Play: No\n",
            "Input: {'Weather': 'Rainy', 'Humidity': 'High', 'Wind': 'Strong'} -> Play: Yes\n"
          ]
        }
      ],
      "source": [
        "data = [\n",
        "    {\"Weather\": \"Sunny\", \"Humidity\": \"Normal\", \"Wind\": \"Weak\", \"Play\": \"No\"},\n",
        "    {\"Weather\": \"Sunny\", \"Humidity\": \"Normal\", \"Wind\": \"Weak\", \"Play\": \"No\"},\n",
        "    {\"Weather\": \"Sunny\", \"Humidity\": \"Normal\", \"Wind\": \"Strong\", \"Play\": \"No\"},\n",
        "    {\"Weather\": \"Sunny\", \"Humidity\": \"High\", \"Wind\": \"Weak\", \"Play\": \"No\"},\n",
        "    {\"Weather\": \"Sunny\", \"Humidity\": \"High\", \"Wind\": \"Strong\", \"Play\": \"No\"},\n",
        "    {\"Weather\": \"Rainy\", \"Humidity\": \"High\", \"Wind\": \"Strong\", \"Play\": \"Yes\"},\n",
        "    {\"Weather\": \"Rainy\", \"Humidity\": \"High\", \"Wind\": \"Weak\", \"Play\": \"Yes\"},\n",
        "    {\"Weather\": \"Rainy\", \"Humidity\": \"Low\", \"Wind\": \"Weak\", \"Play\": \"Yes\"},\n",
        "    {\"Weather\": \"Rainy\", \"Humidity\": \"Low\", \"Wind\": \"Strong\", \"Play\": \"Yes\"},\n",
        "    {\"Weather\": \"Rainy\", \"Humidity\": \"Low\", \"Wind\": \"Weak\", \"Play\": \"Yes\"}\n",
        "]\n",
        "\n",
        "gain = {\n",
        "    \"Weather\": 0.124,\n",
        "    \"Humidity\": 0.6,\n",
        "    \"Wind\": 0\n",
        "}\n",
        "\n",
        "decision_tree = {\n",
        "    \"Humidity\": {\n",
        "        \"Normal\": \"No\",\n",
        "        \"Low\": \"Yes\",\n",
        "        \"High\": {\n",
        "            \"Weather\": {\n",
        "                \"Sunny\": \"No\",\n",
        "                \"Rainy\": \"Yes\"\n",
        "            }\n",
        "        }\n",
        "    }\n",
        "}\n",
        "\n",
        "def classify(sample, tree):\n",
        "    for attribute, branches in tree.items():\n",
        "        value = sample.get(attribute)\n",
        "        result = branches.get(value)\n",
        "        if isinstance(result, dict):\n",
        "            return classify(sample, result)\n",
        "        else:\n",
        "            return result\n",
        "\n",
        "test_data = [\n",
        "    {\"Weather\": \"Sunny\", \"Humidity\": \"Normal\", \"Wind\": \"Strong\"},\n",
        "    {\"Weather\": \"Rainy\", \"Humidity\": \"Low\", \"Wind\": \"Weak\"},\n",
        "    {\"Weather\": \"Sunny\", \"Humidity\": \"High\", \"Wind\": \"Weak\"},\n",
        "    {\"Weather\": \"Rainy\", \"Humidity\": \"High\", \"Wind\": \"Strong\"},\n",
        "]\n",
        "\n",
        "for sample in test_data:\n",
        "    print(f\"Input: {sample} -> Play: {classify(sample, decision_tree)}\")\n"
      ]
    }
  ]
}